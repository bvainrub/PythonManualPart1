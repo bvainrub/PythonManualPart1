{
 "cells": [
  {
   "cell_type": "code",
   "execution_count": null,
   "metadata": {},
   "outputs": [],
   "source": [
    "\n",
    "\n",
    "def my_print(first_name, last_name):\n",
    "    print(f\"Hello Dear {first_name} {last_name}\")\n",
    "\n",
    "my_print(\"Bob\", \"Marlin\")\n",
    "\n",
    "def greet(first_name, last_name):\n",
    "    return f\"Hi {first_name} {last_name}\"\n",
    "\n",
    "msg  = greet(\"John\",\"Doe\")\n",
    "\n",
    "print(msg)\n",
    "\n",
    "with open(\"logfile.txt\", \"w\") as file:\n",
    "    file.write(msg)\n"
   ]
  },
  {
   "cell_type": "code",
   "execution_count": null,
   "metadata": {},
   "outputs": [],
   "source": [
    "def fizz_buzz(start, end):\n",
    "    \"\"\"\n",
    "    Print 'Fizz', 'Buzz', or 'FizzBuzz' for numbers in the specified range based on divisibility rules.\n",
    "    \n",
    "    Parameters:\n",
    "    start (int): The starting number of the range.\n",
    "    end (int): The ending number of the range.\n",
    "    \"\"\"\n",
    "    if start > end:\n",
    "        print(\"Start should be less than or equal to end.\")\n",
    "        return\n",
    "\n",
    "    for fizzbuzz in range(start, end + 1):\n",
    "        if fizzbuzz % 3 == 0 and fizzbuzz % 5 == 0:\n",
    "            print(\"FizzBuzz\")\n",
    "        elif fizzbuzz % 3 == 0:\n",
    "            print(\"Fizz\")\n",
    "        elif fizzbuzz % 5 == 0:\n",
    "            print(\"Buzz\")\n",
    "        else:\n",
    "            print(fizzbuzz)\n",
    "        with open(\"logfile.txt\",\"w\") as file:\n",
    "            file.write()\n",
    "\n",
    "# Example usage\n",
    "print(\"From 9 to 15\")\n",
    "fizz_buzz(9, 15)\n",
    "\n",
    "print(\"\\nFrom 50 to 75\")\n",
    "fizz_buzz(50, 75)\n",
    "\n"
   ]
  },
  {
   "cell_type": "code",
   "execution_count": 57,
   "metadata": {},
   "outputs": [
    {
     "name": "stdout",
     "output_type": "stream",
     "text": [
      "['1', '2', 'Fizz', '4', 'Buzz', 'Fizz', '7', '8', 'Fizz', 'Buzz', '11', 'Fizz', '13', '14', 'FizzBuzz']\n"
     ]
    }
   ],
   "source": [
    "def fizz_buzz(start, end):\n",
    "    \"\"\"\n",
    "    Print 'Fizz', 'Buzz', or 'FizzBuzz' for numbers in the specified range based on divisibility rules.\n",
    "    \n",
    "    Parameters:\n",
    "    start (int): The starting number of the range.\n",
    "    end (int): The ending number of the range.\n",
    "    \"\"\"\n",
    "    if start > end:\n",
    "        print(\"Start should be less than or equal to end.\")\n",
    "        return\n",
    "\n",
    "    output = []\n",
    "    for fizzbuzz in range(start, end + 1):\n",
    "        if fizzbuzz % 3 == 0 and fizzbuzz % 5 == 0:\n",
    "            output.append(\"FizzBuzz\")\n",
    "        elif fizzbuzz % 3 == 0:\n",
    "            output.append(\"Fizz\")\n",
    "        elif fizzbuzz % 5 == 0:\n",
    "            output.append(\"Buzz\")\n",
    "        else:\n",
    "            output.append(str(fizzbuzz))\n",
    "\n",
    "    with open(\"logfile.txt\", \"w\") as file:\n",
    "        file.write(\"\\n\".join(output))\n",
    "    print(output)\n",
    "\n",
    "# Example usage\n",
    "fizz_buzz(1, 15)\n",
    "\n",
    "\n"
   ]
  },
  {
   "cell_type": "code",
   "execution_count": 58,
   "metadata": {},
   "outputs": [
    {
     "data": {
      "text/plain": [
       "'FizzBuzz'"
      ]
     },
     "execution_count": 58,
     "metadata": {},
     "output_type": "execute_result"
    }
   ],
   "source": [
    "def fizz_buzz(number):\n",
    "    if (number % 3 == 0) and (number %5 == 0):\n",
    "        return \"FizzBuzz\"\n",
    "    if number % 3 == 0:\n",
    "        return \"Fizz\"\n",
    "    if number % 5 == 0:\n",
    "        return \"Buzz\"\n",
    "    return number\n",
    "\n",
    "fizz_buzz(15)\n"
   ]
  }
 ],
 "metadata": {
  "kernelspec": {
   "display_name": "Python 3",
   "language": "python",
   "name": "python3"
  },
  "language_info": {
   "codemirror_mode": {
    "name": "ipython",
    "version": 3
   },
   "file_extension": ".py",
   "mimetype": "text/x-python",
   "name": "python",
   "nbconvert_exporter": "python",
   "pygments_lexer": "ipython3",
   "version": "3.10.12"
  }
 },
 "nbformat": 4,
 "nbformat_minor": 2
}
