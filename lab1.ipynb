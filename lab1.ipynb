{
 "cells": [
  {
   "cell_type": "code",
   "execution_count": null,
   "metadata": {},
   "outputs": [],
   "source": [
    "import numpy as np\n",
    "\n",
    "# Create a list\n",
    "a= [1,2,3,4,5]\n",
    "numpy_array= np.array(a)\n",
    "\n",
    "print (numpy_array)\n",
    "\n",
    "\n"
   ]
  },
  {
   "cell_type": "code",
   "execution_count": null,
   "metadata": {},
   "outputs": [],
   "source": [
    "# two dimenstion \n",
    "b = [[10,11,12,13],[44,15,66,88],[44,85,63,98],[44,55,66,88]]\n",
    "b\n",
    "\n",
    "b_array=np.array(b)\n",
    "b_array"
   ]
  },
  {
   "cell_type": "code",
   "execution_count": null,
   "metadata": {},
   "outputs": [],
   "source": [
    "# Show the numpy array dimensions\n",
    "print(\"Two Dimention Array\",b_array.ndim)\n",
    "print(\"Two List\", numpy_array.ndim)\n",
    "\n",
    "# Show the numpy array shape AxB\n",
    "print(\"Array b_array Shape\",b_array.shape)\n",
    "\n",
    "# Show the numpy array size = total elements\n",
    "print(\"Array b_array Size\",b_array.size)\n",
    "\n"
   ]
  },
  {
   "cell_type": "code",
   "execution_count": null,
   "metadata": {},
   "outputs": [],
   "source": [
    "# Access to specific element\n",
    "print(\"Print b_array\" ,b_array)\n",
    "print(\"Access to element 2,1 opt1: \",b_array[2,1])\n",
    "print(\"Access to element 2,1 opt2: \",b_array[1][1])\n",
    "\n",
    "print(\"Access to element First Line : \",b_array[0:2][1])\n",
    "print(\"Access to element 2,1 opt2: \",b_array[2][0:2])"
   ]
  },
  {
   "cell_type": "code",
   "execution_count": null,
   "metadata": {},
   "outputs": [],
   "source": [
    "# Create a numpy array X\n",
    "\n",
    "X = np.array([[1, 0], [0, 1]]) \n",
    "print(\"array x\",X)\n",
    "\n",
    "# Create a numpy array Y\n",
    "\n",
    "Y = np.array([[2, 1], [1, 2]]) \n",
    "print(\"array y\",Y)\n",
    "\n",
    "#ADD z= X+Y\n",
    "z=X+Y\n",
    "z\n",
    "\n",
    "\n",
    "# Calculate the dot product\n",
    "\n",
    "Z_product = np.dot(X,Y)\n",
    "print(\"Z_product result z= XdotY: \",Z_product)"
   ]
  },
  {
   "cell_type": "code",
   "execution_count": 8,
   "metadata": {},
   "outputs": [
    {
     "name": "stdout",
     "output_type": "stream",
     "text": [
      "[[10 11 12 13]\n",
      " [44 15 66 88]\n",
      " [44 85 63 98]\n",
      " [44 55 66 88]]\n",
      "Maximum Value in the array  98\n",
      "Minimum Value in the array  10\n",
      "MEAN Value in the array  50.125\n"
     ]
    }
   ],
   "source": [
    "#Statistical Function\n",
    "print(b_array)\n",
    "max_b=b_array.max()\n",
    "print(\"Maximum Value in the array \",max_b)\n",
    "\n",
    "min_b_=b_array.min()\n",
    "print(\"Minimum Value in the array \", min_b_)\n",
    "\n",
    "mean_b_=b_array.mean()\n",
    "print(\"MEAN Value in the array \", mean_b_)\n",
    "\n",
    "\n"
   ]
  },
  {
   "cell_type": "code",
   "execution_count": 2,
   "metadata": {},
   "outputs": [],
   "source": [
    "def f():\n",
    "    return 3\n",
    "\n",
    "\n",
    "def test_function():\n",
    "    assert f() == 4\n",
    "\n"
   ]
  }
 ],
 "metadata": {
  "kernelspec": {
   "display_name": "Python 3",
   "language": "python",
   "name": "python3"
  },
  "language_info": {
   "codemirror_mode": {
    "name": "ipython",
    "version": 3
   },
   "file_extension": ".py",
   "mimetype": "text/x-python",
   "name": "python",
   "nbconvert_exporter": "python",
   "pygments_lexer": "ipython3",
   "version": "3.10.12"
  }
 },
 "nbformat": 4,
 "nbformat_minor": 2
}
