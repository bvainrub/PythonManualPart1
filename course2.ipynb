{
 "cells": [
  {
   "cell_type": "code",
   "execution_count": null,
   "metadata": {},
   "outputs": [],
   "source": [
    "import pandas as pd\n",
    "\n",
    "\n",
    "from typing import List\n",
    "\n",
    "def createDataframe(student_data: List[List[int]]) -> pd.DataFrame:\n",
    "    df = pd.DataFrame(student_data, columns=['student_id', 'age'])\n",
    "    return df\n",
    "    \n",
    "student_data = [[1, 15],[2, 11],[3, 11],[4, 20]]\n",
    "df = createDataframe(student_data)\n",
    "\n",
    "# Print the DataFrame\n",
    "print(df)"
   ]
  },
  {
   "cell_type": "code",
   "execution_count": null,
   "metadata": {},
   "outputs": [],
   "source": [
    "def my_print(first_name, last_name):\n",
    "    print(f\"Hello Dear {first_name} {last_name}\")\n",
    "\n",
    "my_print(\"Bob\", \"Marlin\")\n",
    "\n",
    "def greet(first_name, last_name):\n",
    "    return f\"Hi {first_name} {last_name}\"\n",
    "\n",
    "msg  = greet(\"John\",\"Doe\")\n",
    "\n",
    "print(msg)\n",
    "\n",
    "with open(\"logfile.txt\", \"w\") as file:\n",
    "    file.write(msg)"
   ]
  },
  {
   "cell_type": "code",
   "execution_count": null,
   "metadata": {},
   "outputs": [],
   "source": [
    "import numpy as np\n",
    "#1d and 2d array\n",
    "array_1d = np.array([1,2,3,4,5])\n",
    "array_2d = np.array([[1,2.56,3,4,5],[6,7,8,9,10]])\n",
    "array_3d = np.array([[[1,2 ,3],[2,3,14]],[[2,3,67],[5,6,88]],[[2,3,67],[5,6,88]]])\n",
    "\n",
    "print(\"This is array 1D:\\n\",array_1d)\n",
    "print(\"This is array 2D:\\n\",array_2d)\n",
    "\n",
    "\n",
    "\n",
    "print(\"Size 2d array:\", array_2d.size)\n",
    "print(\"Type 2d array:\", array_2d.dtype)\n",
    "print(\"Dimention  Array (Shape) 2d array:\", array_2d.shape)\n",
    "\n",
    "print(\"\\n==========3D ARRAY===============\")\n",
    "print(\"Dimention  Array (Shape) 3d array:  3 Block,2 Rows 3 elements per block :\", array_3d.shape)\n",
    "print(\"Number of elements 3Block X 2Rows X 3Elements = \",array_3d.size)\n",
    "print(\"Type of 3D Array\", array_3d.dtype)\n",
    "print(\"This is array 3D:\\n\",array_3d)\n",
    "\n",
    "\n",
    "\n",
    "print(\"\\n==========2D ARRAY===============\")\n",
    "\n",
    "array_2d_v2 = np.array([[1,2,3,4,5],[6,7,8,9,10],[6,7,8,9,10]])\n",
    "print(array_2d_v2)\n",
    "\n",
    "\n",
    "\n"
   ]
  },
  {
   "cell_type": "code",
   "execution_count": null,
   "metadata": {},
   "outputs": [],
   "source": [
    "print(\"\\n==========2D ARRAY===============\")\n",
    "\n",
    "array_2d_v2 = np.array([[1,2,3,4,5],[6,7,8,9,10],[7,72,88,92,111]])\n",
    "print(array_2d_v2)\n",
    "\n",
    "element  = array_2d_v2[2][1]\n",
    "print(array_2d_v2.shape)\n",
    "print(element)\n",
    "\n",
    "\n"
   ]
  },
  {
   "cell_type": "code",
   "execution_count": 81,
   "metadata": {},
   "outputs": [
    {
     "name": "stdout",
     "output_type": "stream",
     "text": [
      "[2 4 6 8]\n",
      "[1 3 5 7 9]\n"
     ]
    }
   ],
   "source": [
    "# Print only even numbers\n",
    "\n",
    "array_mixed = np.array([1,2,3,4,5,6,7,8,9])\n",
    "\n",
    "even_array = array_mixed%2==0\n",
    "array_even_sorted = array_mixed[even_array]\n",
    "print(array_even_sorted)\n",
    "\n",
    "\n",
    "odd_array = array_mixed % 2 != 0\n",
    "array_odd_sorted = array_mixed[odd_array]\n",
    "print(array_odd_sorted)\n"
   ]
  },
  {
   "cell_type": "code",
   "execution_count": null,
   "metadata": {},
   "outputs": [],
   "source": []
  }
 ],
 "metadata": {
  "kernelspec": {
   "display_name": "Python 3",
   "language": "python",
   "name": "python3"
  },
  "language_info": {
   "codemirror_mode": {
    "name": "ipython",
    "version": 3
   },
   "file_extension": ".py",
   "mimetype": "text/x-python",
   "name": "python",
   "nbconvert_exporter": "python",
   "pygments_lexer": "ipython3",
   "version": "3.10.12"
  }
 },
 "nbformat": 4,
 "nbformat_minor": 2
}
